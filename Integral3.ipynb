{
  "nbformat": 4,
  "nbformat_minor": 0,
  "metadata": {
    "colab": {
      "name": "Integral3.ipynb",
      "provenance": [],
      "collapsed_sections": [],
      "authorship_tag": "ABX9TyPvd3YOQQqy7u2GTNavpUPO",
      "include_colab_link": true
    },
    "kernelspec": {
      "name": "python3",
      "display_name": "Python 3"
    },
    "language_info": {
      "name": "python"
    }
  },
  "cells": [
    {
      "cell_type": "markdown",
      "metadata": {
        "id": "view-in-github",
        "colab_type": "text"
      },
      "source": [
        "<a href=\"https://colab.research.google.com/github/EmmanuelPaz43/Integral_Oscilador_Arm-nico/blob/main/Integral3.ipynb\" target=\"_parent\"><img src=\"https://colab.research.google.com/assets/colab-badge.svg\" alt=\"Open In Colab\"/></a>"
      ]
    },
    {
      "cell_type": "code",
      "metadata": {
        "colab": {
          "base_uri": "https://localhost:8080/",
          "height": 496
        },
        "id": "3IZfX6yGqyfR",
        "outputId": "30c218c0-af74-40b3-ad94-0aeb998f347d"
      },
      "source": [
        "# Programa que calcula la integral numérica de una función.\n",
        "# Autor: Emmanuel Paz Córdova\n",
        "# Fecha: Septiembre 8, 2021\n",
        "\n",
        "import matplotlib.pyplot as plt\n",
        "import numpy as np\n",
        "import math\n",
        "\n",
        "# Definición de funciones\n",
        "def fprima(amplitud, P, tiempo):\n",
        "  return amplitud*(2*np.pi/P)*np.cos((2*np.pi/P)*tiempo)\n",
        "\n",
        "# Para comparar nuestro resultado numérico con la evaluación exacta\n",
        "def f(amplitud, P, tiempo):\n",
        "  return amplitud*np.sin((2*np.pi/P)*tiempo)\n",
        "\n",
        "# Lectura de variables\n",
        "print(\"¿Cuál es la amplitud del oscilador?\")\n",
        "amplitud=int(input(\"\"))\n",
        "print(\"¿Cuál es el periodo del oscilador en segundos?\")\n",
        "periodo=int(input(\"\"))\n",
        "print(\"¿Desde que punto quieres calcular la integral?\")\n",
        "puntoinicial=float(input(\"\"))\n",
        "puntoinicial2=puntoinicial\n",
        "print(\"¿Hasta que punto quieres calcular la integral?\")\n",
        "puntofinal=float(input(\"\"))\n",
        "print(\"¿Cuántos segmentos quieres usar?\")\n",
        "segmentos=int(input(\"\"))\n",
        "\n",
        "#t1=np.arange(puntoinicial_tiempo, puntofinal_tiempo, 0,001)\n",
        "#plt.plot(t1, f(amplitud, periodo, t1))\n",
        "#plt.plot(t1, fprima(amplitud, periodo, t1))\n",
        "#plt.show()\n",
        "\n",
        "#anchodedivision=(puntofinal_tiempo-puntoinicial_tiempo)/segmentos\n",
        "#print(\"Ancho de la división\", anchodedivision)\n",
        "#t=np.arange(puntoinicial_tiempo, puntofinal_tiempo, anchodedivision)\n",
        "#integralaproximada=0\n",
        "Dx=(puntofinal-puntoinicial)/segmentos\n",
        "suma=0\n",
        "\n",
        "for i in range(segmentos):\n",
        "  altura=fprima(amplitud, periodo, puntoinicial+Dx/2)\n",
        "  Area=altura*Dx\n",
        "  suma=suma+Area\n",
        "  puntoinicial=puntoinicial+Dx\n",
        "\n",
        "integralexacta=f(amplitud, periodo, puntofinal)-f(amplitud, periodo, puntoinicial2)\n",
        "\n",
        "print(\"El valor de la integral numérica de la función es: \", suma)\n",
        "print(\"El valor de la integral exacta de la función entre \", puntoinicial2, \" y \", puntofinal, \" es \", integralexacta)\n",
        "\n",
        "tiempo=np.arange(0, 5.00, 0.1)\n",
        "plt.plot(tiempo, fprima(amplitud, periodo, tiempo))\n",
        "\n",
        "plt.show()"
      ],
      "execution_count": 1,
      "outputs": [
        {
          "output_type": "stream",
          "name": "stdout",
          "text": [
            "¿Cuál es la amplitud del oscilador?\n",
            "5\n",
            "¿Cuál es el periodo del oscilador en segundos?\n",
            "2\n",
            "¿Desde que punto quieres calcular la integral?\n",
            "0\n",
            "¿Hasta que punto quieres calcular la integral?\n",
            "1\n",
            "¿Cuántos segmentos quieres usar?\n",
            "10\n",
            "El valor de la integral numérica de la función es:  6.661338147750939e-16\n",
            "El valor de la integral exacta de la función entre  0.0  y  1.0  es  -2.220446049250313e-15\n"
          ]
        },
        {
          "output_type": "display_data",
          "data": {
            "image/png": "[encoded data removed]",
            "text/plain": [
              "<Figure size 432x288 with 1 Axes>"
            ]
          },
          "metadata": {
            "needs_background": "light"
          }
        }
      ]
    }
  ]
}