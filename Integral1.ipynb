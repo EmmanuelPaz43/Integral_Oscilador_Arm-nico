{
  "nbformat": 4,
  "nbformat_minor": 0,
  "metadata": {
    "colab": {
      "name": "Integral1.ipynb",
      "provenance": [],
      "collapsed_sections": [],
      "authorship_tag": "ABX9TyNO5YCw64eUEuDol7r6w1Ne",
      "include_colab_link": true
    },
    "kernelspec": {
      "name": "python3",
      "display_name": "Python 3"
    },
    "language_info": {
      "name": "python"
    }
  },
  "cells": [
    {
      "cell_type": "markdown",
      "metadata": {
        "id": "view-in-github",
        "colab_type": "text"
      },
      "source": [
        "<a href=\"https://colab.research.google.com/github/EmmanuelPaz43/Integral_Oscilador_Arm-nico/blob/main/Integral1.ipynb\" target=\"_parent\"><img src=\"https://colab.research.google.com/assets/colab-badge.svg\" alt=\"Open In Colab\"/></a>"
      ]
    },
    {
      "cell_type": "code",
      "metadata": {
        "colab": {
          "base_uri": "https://localhost:8080/"
        },
        "id": "g9FVWvbro_yy",
        "outputId": "caf49112-84e3-431a-9f54-4bb66aee8506"
      },
      "source": [
        "# Programa que calcula la integral numérica de una función.\n",
        "# Autor: Emmanuel Paz Córdova\n",
        "# Fecha: Septiembre 8, 2021\n",
        "\n",
        "import matplotlib.pyplot as plt\n",
        "import numpy as np\n",
        "import math\n",
        "\n",
        "def fprima(A, T, pf): # Derivada f´(t)\n",
        "  return A*(2*np.pi/T)*np.cos((2*np.pi/T)*pf)\n",
        "\n",
        "def f(A, T, pf): # Función f(t)\n",
        "  return A*np.sin((2*np.pi/T)*pf)\n",
        "\n",
        "def rec(b, h): #Suma de Rieman, cálculo de áreas\n",
        "  return (b*h)\n",
        "\n",
        "def integ(A, T, pi, pf, n):\n",
        "  interv=(pf-pi)/float(n)\n",
        "  x1=pi\n",
        "  suma=0\n",
        "  for i in range (1, n):\n",
        "    area=rec(interv, fprima(A, T, x1+interv))\n",
        "    suma=suma+area\n",
        "    x1=x1+interv\n",
        "  return suma         \n",
        "\n",
        "# Lectura de variables\n",
        "A=float(input(\"¿Cuál es la amplitud del oscilador? \"))\n",
        "T=float(input(\"¿Cuál es el periodo del oscilador en segundos? \"))\n",
        "pi=float(input(\"¿Desde que punto quieres calcular la integral? \"))\n",
        "pf=float(input(\"¿Hasta que punto quieres calcular la integral? \"))\n",
        "n=int(input(\"¿Cuántos segmentos quieres usar? \"))\n",
        "\n",
        "# Calculo de variables\n",
        "punto_medio=pi+(pf-pi)/2 \n",
        "\n",
        "integral_numerica=integ(A, T, pi, pf, n)\n",
        "integral_exacta=f(A, T, pf)-f(A, T, pi)\n",
        "\n",
        "print(\"La integral numérica es igual a: \", integral_numerica)\n",
        "print(\"El valor de la integral exacta es: \", integral_exacta)\n"
      ],
      "execution_count": 6,
      "outputs": [
        {
          "output_type": "stream",
          "name": "stdout",
          "text": [
            "¿Cuál es la amplitud del oscilador? 5\n",
            "¿Cuál es el periodo del oscilador en segundos? 2\n",
            "¿Desde que punto quieres calcular la integral? 0\n",
            "¿Hasta que punto quieres calcular la integral? 1\n",
            "¿Cuántos segmentos quieres usar? 10\n",
            "La integral numérica es igual a:  6.661338147750939e-16\n",
            "El valor de la integral exacta es:  6.123233995736766e-16\n"
          ]
        }
      ]
    }
  ]
}