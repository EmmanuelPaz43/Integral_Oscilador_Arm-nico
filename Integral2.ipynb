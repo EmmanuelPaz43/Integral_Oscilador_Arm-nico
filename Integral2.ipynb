{
  "nbformat": 4,
  "nbformat_minor": 0,
  "metadata": {
    "colab": {
      "name": "Integral2.ipynb",
      "provenance": [],
      "collapsed_sections": [],
      "authorship_tag": "ABX9TyOu6OUUK3Lfz7zbjTT2TDcv",
      "include_colab_link": true
    },
    "kernelspec": {
      "name": "python3",
      "display_name": "Python 3"
    },
    "language_info": {
      "name": "python"
    }
  },
  "cells": [
    {
      "cell_type": "markdown",
      "metadata": {
        "id": "view-in-github",
        "colab_type": "text"
      },
      "source": [
        "<a href=\"https://colab.research.google.com/github/EmmanuelPaz43/Integral_Oscilador_Arm-nico/blob/main/Integral2.ipynb\" target=\"_parent\"><img src=\"https://colab.research.google.com/assets/colab-badge.svg\" alt=\"Open In Colab\"/></a>"
      ]
    },
    {
      "cell_type": "code",
      "metadata": {
        "colab": {
          "base_uri": "https://localhost:8080/"
        },
        "id": "6TrDpydnSOee",
        "outputId": "3ad263a3-7227-4bc1-d259-6a49a9e66d7f"
      },
      "source": [
        "# Programa que calcula la integral numérica de una función.\n",
        "# Autor: Emmanuel Paz Córdova\n",
        "# Fecha: Septiembre 8, 2021\n",
        "\n",
        "import matplotlib.pyplot as plt\n",
        "import numpy as np\n",
        "import math\n",
        "\n",
        "def f1(A, P, t):\n",
        "  return A*(2*np.pi/P)*np.cos((2*np.pi/P)*t)\n",
        "\n",
        "def f2(A, P, t):\n",
        "  return A*np.sin((2*np.pi/P)*t)\n",
        "\n",
        "print(\"¿Cuál es la amplitud del oscilador en metros?\")\n",
        "A=float(input(\"\"))\n",
        "print(\"¿Cuál es el periodo del oscilador en segundos?\")\n",
        "P=float(input(\"\"))\n",
        "\n",
        "def sumariemann(f1, a, b, n):\n",
        "  sumval=0\n",
        "  h=(b-a)/n\n",
        "  sumval=h*(sum(f1(A, P, a+(i*h)) for i in range(0, n)))\n",
        "  return sumval\n",
        "\n",
        "print(\"¿Desde qué punto quieres calcular la integral en segundos?\")\n",
        "a=int(input(\"\"))\n",
        "print(\"¿Hasta que punto quieres calcular la integral en segundos?\") \n",
        "b=int(input(\"\"))\n",
        "print(\"Ingrese el número de particiones: \")\n",
        "n=int(input(\"\"))\n",
        "print(\"La suma de riemann es aproximada a: \", sumariemann(f1, a, b, n))\n",
        "integral_exacta=f2(A, P, b)-f2(A, P, a)\n",
        "print(\"El valor de la integral exacta es: \", integral_exacta)"
      ],
      "execution_count": 14,
      "outputs": [
        {
          "output_type": "stream",
          "name": "stdout",
          "text": [
            "¿Cuál es la amplitud del oscilador en metros?\n",
            "5\n",
            "¿Cuál es el periodo del oscilador en segundos?\n",
            "2\n",
            "¿Desde qué punto quieres calcular la integral en segundos?\n",
            "0\n",
            "¿Hasta que punto quieres calcular la integral en segundos?\n",
            "1\n",
            "Ingrese el número de particiones: \n",
            "10\n",
            "La suma de riemann es aproximada a:  1.5707963267948966\n",
            "El valor de la integral exacta es:  6.123233995736766e-16\n"
          ]
        }
      ]
    }
  ]
}